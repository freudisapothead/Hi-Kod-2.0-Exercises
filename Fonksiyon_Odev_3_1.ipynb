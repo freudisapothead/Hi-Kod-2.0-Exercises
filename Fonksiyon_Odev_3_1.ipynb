{
 "cells": [
  {
   "cell_type": "code",
   "execution_count": 5,
   "metadata": {},
   "outputs": [
    {
     "name": "stdout",
     "output_type": "stream",
     "text": [
      "A isimli öğrencinin notları: {'Matematik': 99, 'Fizik': 99, 'Kimya': 99}\n"
     ]
    }
   ],
   "source": [
    "ogrenci_isimleri = {\"A\": {\"Matematik\": 99, \"Fizik\": 99, \"Kimya\": 99}, \"B\": {\"Matematik\": 98, \"Fizik\": 98, \"Kimya\": 98}, \"C\": {\"Matematik\": 97, \"Fizik\": 97, \"Kimya\": 97}}\n",
    "\n",
    "# Kullanıcıya hangi işlemi yapmak istediğini sor\n",
    "islem = input(\"Yapmak istediğiniz işlemi seçin: (D)eğer değiştirme, (Y)eni değer ekleme, (O)grenci notlarını görüntüleme: \")\n",
    "\n",
    "# Kullanıcının seçtiği işleme göre işlem yap\n",
    "if islem == \"D\":\n",
    "    # Kullanıcıdan öğrenci adı ve ders adı bilgisini al\n",
    "    ogrenci_adi = input(\"Öğrenci adını girin: \")\n",
    "    ders_adi = input(\"Değiştirmek istediğiniz ders adını girin: \")\n",
    "    \n",
    "    # Kullanıcının girdiği öğrenci adı ve ders adı sözlükte varsa yeni not bilgisini al\n",
    "    if ogrenci_adi in ogrenci_isimleri and ders_adi in ogrenci_isimleri[ogrenci_adi]:\n",
    "        yeni_not = int(input(\"Yeni notu girin: \"))\n",
    "        ogrenci_isimleri[ogrenci_adi][ders_adi] = yeni_not\n",
    "        print(f\"{ogrenci_adi} isimli öğrencinin {ders_adi} dersi notu {yeni_not} olarak güncellendi.\")\n",
    "    else:\n",
    "        print(f\"{ogrenci_adi} isimli öğrenci veya {ders_adi} dersi bulunamadı.\")\n",
    "        \n",
    "elif islem == \"Y\":\n",
    "    # Kullanıcıdan öğrenci adı, ders adı ve not bilgisi al\n",
    "    ogrenci_adi = input(\"Öğrenci adını girin: \")\n",
    "    ders_adi = input(\"Yeni not eklemek istediğiniz ders adını girin: \")\n",
    "    yeni_not = int(input(\"Yeni notu girin: \"))\n",
    "    \n",
    "    # Kullanıcının girdiği öğrenci adı sözlükte varsa yeni not bilgisini ekle\n",
    "    if ogrenci_adi in ogrenci_isimleri:\n",
    "        ogrenci_isimleri[ogrenci_adi][ders_adi] = yeni_not\n",
    "        print(f\"{ogrenci_adi} isimli öğrencinin {ders_adi} dersine {yeni_not} notu eklendi.\")\n",
    "    else:\n",
    "        print(f\"{ogrenci_adi} isimli öğrenci bulunamadı.\")\n",
    "        \n",
    "elif islem == \"O\":\n",
    "    # Kullanıcıdan öğrenci adı bilgisini al\n",
    "    ogrenci_adi = input(\"Öğrenci adını girin: \")\n",
    "    \n",
    "    # Kullanıcının girdiği öğrenci adı sözlükte varsa öğrencinin not bilgilerini görüntüle\n",
    "    if ogrenci_adi in ogrenci_isimleri:\n",
    "        print(f\"{ogrenci_adi} isimli öğrencinin notları: {ogrenci_isimleri[ogrenci_adi]}\")\n",
    "    else:\n",
    "        print(f\"{ogrenci_adi} isimli öğrenci bulunamadı.\")\n",
    "        \n",
    "else:\n",
    "    print(\"Geçersiz işlem seçimi.\")\n"
   ]
  }
 ],
 "metadata": {
  "kernelspec": {
   "display_name": "Python 3",
   "language": "python",
   "name": "python3"
  },
  "language_info": {
   "codemirror_mode": {
    "name": "ipython",
    "version": 3
   },
   "file_extension": ".py",
   "mimetype": "text/x-python",
   "name": "python",
   "nbconvert_exporter": "python",
   "pygments_lexer": "ipython3",
   "version": "3.11.5"
  },
  "orig_nbformat": 4
 },
 "nbformat": 4,
 "nbformat_minor": 2
}
