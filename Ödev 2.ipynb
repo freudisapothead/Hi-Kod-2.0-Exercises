{
 "cells": [
  {
   "cell_type": "markdown",
   "id": "ff87c8f7",
   "metadata": {},
   "source": [
    "# 1\n",
    "Kullanıcıdan maaş bilgisini isteyelim ve bu bilgiye göre maaşından ne kadar vergi kesileceğini hesaplayalım. (Oluşturulan vergi sistemi hayal ürünüdür :D)\n",
    "Kullanıcının geliri;\n",
    "- 10000 ve altındaysa maaşından %5 kesinti olsun.\n",
    "- 25000 ve altındaysa maaşından %10 kesinti olsun.\n",
    "- 45000 ve altındaysa maaşından %25 kesinti olsun.\n",
    "- Diğer koşullarda %30 kesinti olsun.\n",
    "\n",
    "Bu durumlara göre kullanıcının yeni maaşını yazdıralım."
   ]
  },
  {
   "cell_type": "code",
   "execution_count": 1,
   "id": "a6da3ea9",
   "metadata": {},
   "outputs": [
    {
     "name": "stdout",
     "output_type": "stream",
     "text": [
      "Gelirinizden yapılan vergi kesintisi: 500.00 TL\n",
      "Yeni maaşınız: 9500.00 TL\n"
     ]
    }
   ],
   "source": [
    "#Input\n",
    "maas = float(input(\"Maaşınızı girin: \"))\n",
    "\n",
    "#Vergi Oranı\n",
    "if maas <= 10000:\n",
    "    vergi_orani = 0.05\n",
    "elif maas <= 25000:\n",
    "    vergi_orani = 0.10\n",
    "elif maas <= 45000:\n",
    "    vergi_orani = 0.25\n",
    "else:\n",
    "    vergi_orani = 0.30\n",
    "\n",
    "vergi_kesintisi = maas * vergi_orani\n",
    "\n",
    "#Yeni maaş\n",
    "yeni_maas = maas - vergi_kesintisi\n",
    "\n",
    "#Print\n",
    "print(f\"Gelirinizden yapılan vergi kesintisi: {vergi_kesintisi:.2f} TL\")\n",
    "print(f\"Yeni maaşınız: {yeni_maas:.2f} TL\")"
   ]
  },
  {
   "cell_type": "markdown",
   "id": "77370310",
   "metadata": {},
   "source": [
    "# 2\n",
    "Kullanıcıdan kullanıcı adı ve şifre oluşturmasını isteyin. Şifrenin uzunluğu altı haneye ulaşmışsa hesabınız oluşturuldu mesajı alsın, altı haneden azsa altı haneli şifre oluşturması gerektiğinin mesajını alsın.(Sadece koşul kullanmanız yeterli.)"
   ]
  },
  {
   "cell_type": "code",
   "execution_count": 2,
   "id": "61ddc038",
   "metadata": {},
   "outputs": [
    {
     "name": "stdout",
     "output_type": "stream",
     "text": [
      "Şifreniz en az altı karakterden oluşmalıdır. Lütfen daha uzun bir şifre girin.\n"
     ]
    }
   ],
   "source": [
    "#Input\n",
    "kullanici_adi = input(\"Kullanıcı adınızı oluşturun: \")\n",
    "sifre = input(\"Şifrenizi oluşturun: \")\n",
    "\n",
    "#Şifre kuralı\n",
    "if len(sifre) >= 6:\n",
    "    print(\"Hesabınız başarıyla oluşturuldu.\")\n",
    "else:\n",
    "    print(\"Şifreniz en az altı karakterden oluşmalıdır. Lütfen daha uzun bir şifre girin.\")\n"
   ]
  },
  {
   "cell_type": "markdown",
   "id": "fd529538",
   "metadata": {},
   "source": [
    "# 3\n",
    "Bir önceki örneği geliştiriyoruz. \n",
    "\n",
    "- Kullanıcı girdiği şifre 5 ve 10 hane arasında olmak zorunda olsun. \n",
    "- Eğer bu koşula uyuyorsa \"Hesabınız oluşturuldu.\" mesajı alsın\n",
    "- Koşulu sağlamıyorsa \"Lütfen girdiniz şifre 5 haneden az 1 haneden fazla olmasın!\" uyarısı alsın.\n",
    "- Bunu oluştururken kullanıcı istediğimiz şartlarda şifre oluşturuna kadar sormaya devam etsin."
   ]
  },
  {
   "cell_type": "code",
   "execution_count": 3,
   "id": "b882e6f9",
   "metadata": {},
   "outputs": [
    {
     "name": "stdout",
     "output_type": "stream",
     "text": [
      "Hesabınız başarıyla oluşturuldu.\n"
     ]
    }
   ],
   "source": [
    "while True:\n",
    "    kullanici_adi = input(\"Kullanıcı adınızı oluşturun: \")\n",
    "    sifre = input(\"Şifrenizi oluşturun: \")\n",
    "\n",
    "    # Şifre kuralını kontrol edin\n",
    "    if 5 <= len(sifre) <= 10:\n",
    "        print(\"Hesabınız başarıyla oluşturuldu.\")\n",
    "        break\n",
    "    else:\n",
    "        print(\"Lütfen girdiğiniz şifre 5 haneden az, 10 haneden fazla olmasın!\")\n"
   ]
  },
  {
   "cell_type": "markdown",
   "id": "2fd0417d",
   "metadata": {},
   "source": [
    "# 4\n",
    "- Kullanıcıdan isim ve şifre isteyeceğiz ve şifre girişi için üç hak vereceğiz. \n",
    "- Eğer önceden tanımlı şifre ile kullanıdan gelen şifre aynıysa \"Giriş yapıldı.\" yazsın. \n",
    "- Şifre girişi yanlışşa \"Yanlış şifre girildi!\" uyarısı verilsin ve üç yanlış denemede program bitsin.\n",
    "- Tercihe göre kalan hak bilgisi verilsin"
   ]
  },
  {
   "cell_type": "code",
   "execution_count": 4,
   "id": "41d69a99",
   "metadata": {},
   "outputs": [
    {
     "name": "stdout",
     "output_type": "stream",
     "text": [
      "Yanlış şifre girildi! Kalan hakkınız: 2\n",
      "Yanlış şifre girildi! Kalan hakkınız: 1\n",
      "Giriş yapıldı.\n"
     ]
    }
   ],
   "source": [
    "#Doğru şifre\n",
    "dogru_sifre = \"123456\"\n",
    "\n",
    "#3 deneme\n",
    "haklar = 3\n",
    "giris_basarili = False\n",
    "\n",
    "while haklar > 0:\n",
    "    if sifre == dogru_sifre:\n",
    "        giris_basarili = True\n",
    "        print(\"Giriş yapıldı.\")\n",
    "        break\n",
    "    else:\n",
    "        haklar -= 1\n",
    "        if haklar > 0:\n",
    "            print(f\"Yanlış şifre girildi! Kalan hakkınız: {haklar}\")\n",
    "            sifre = input(\"Şifreyi tekrar girin: \")\n",
    "\n",
    "if not giris_basarili:\n",
    "    print(\"Üç kez yanlış şifre girdiniz. Hesap kilitlendi.\")"
   ]
  }
 ],
 "metadata": {
  "kernelspec": {
   "display_name": "Python 3 (ipykernel)",
   "language": "python",
   "name": "python3"
  },
  "language_info": {
   "codemirror_mode": {
    "name": "ipython",
    "version": 3
   },
   "file_extension": ".py",
   "mimetype": "text/x-python",
   "name": "python",
   "nbconvert_exporter": "python",
   "pygments_lexer": "ipython3",
   "version": "3.11.5"
  }
 },
 "nbformat": 4,
 "nbformat_minor": 5
}
