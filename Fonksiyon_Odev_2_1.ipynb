{
 "cells": [
  {
   "cell_type": "markdown",
   "id": "1a3877fb",
   "metadata": {},
   "source": [
    "#### Kullanıcıdan pi değeri ve yarıçap bilgisi alarak dairenin alanını hesaplayan bir fonksiyon oluşturulur.\n",
    "\n",
    "\n"
   ]
  },
  {
   "cell_type": "code",
   "execution_count": 1,
   "id": "5774f9be",
   "metadata": {},
   "outputs": [
    {
     "name": "stdout",
     "output_type": "stream",
     "text": [
      "113.04\n"
     ]
    }
   ],
   "source": [
    "def circle_area(pi, radius):\n",
    "    return pi * radius ** 2\n",
    "\n",
    "pi = float(input(\"Enter the value of pi: \"))\n",
    "radius = float(input(\"Enter the value of radius (cm): \"))\n",
    "area = circle_area(pi, radius)\n",
    "print(area)\n"
   ]
  },
  {
   "cell_type": "markdown",
   "id": "f0c6a18b",
   "metadata": {},
   "source": [
    "#### Faktöriyel adında fonksiyon oluşturulur. Döngü kullanarak parametre olarak girilen sayının faktöriyeli hesaplanır. Format metodunu kullanılarak ekrana yazdırılır.\n"
   ]
  },
  {
   "cell_type": "code",
   "execution_count": 4,
   "id": "5ea553ae",
   "metadata": {},
   "outputs": [
    {
     "name": "stdout",
     "output_type": "stream",
     "text": [
      "Factorial of 12 is 479001600\n"
     ]
    }
   ],
   "source": [
    "def factorial():\n",
    "    n = int(input(\"Enter a number to calculate its factorial: \"))\n",
    "    result = 1\n",
    "    for i in range(1, n+1):\n",
    "        result *= i\n",
    "    print(\"Factorial of {} is {}\".format(n, result))\n",
    "    \n",
    "factorial()\n"
   ]
  },
  {
   "cell_type": "markdown",
   "id": "bf63a0fa",
   "metadata": {},
   "source": [
    "#### Kişinin fonksiyona doğum yılını vererek kaç yaşında olduğunu hesaplayan bir fonksiyon oluşturun. "
   ]
  },
  {
   "cell_type": "code",
   "execution_count": 5,
   "id": "a13b7813",
   "metadata": {},
   "outputs": [
    {
     "name": "stdout",
     "output_type": "stream",
     "text": [
      "You are 24 years old.\n"
     ]
    }
   ],
   "source": [
    "import datetime\n",
    "\n",
    "def calculate_age(birth_year):\n",
    "    current_year = datetime.datetime.now().year\n",
    "    age = current_year - birth_year\n",
    "    return age\n",
    "birth_year = int(input(\"Enter your birth year: \"))\n",
    "age = calculate_age(birth_year)\n",
    "print(\"You are {} years old.\".format(age))\n"
   ]
  },
  {
   "cell_type": "markdown",
   "id": "4244ad8a",
   "metadata": {},
   "source": [
    "#### Doğum yılı ve isim bilgisi verilen fonksiyon kişinin emekli olup olmadığını söylesin.(Kişi 65 yaşında ise emekli olur.) Burada yaş hesabını yukarıdaki örnekteki fonksiyonu kullanarak yapsın.(Yani fonksiyon içinde fonksiyon kullanmanızı istiyorum :)) Kişi 65 yaşında ya da daha fazlaysa \"Emekli oldunuz\" yanıtını, 65 yaşından küçükse emekliliğine kaç yıl kaldığını da hesaplayarak \"(isim) emekliliğine (yıl) kaldı.\" yanıtını versin."
   ]
  },
  {
   "cell_type": "code",
   "execution_count": 9,
   "id": "6885e7c6",
   "metadata": {},
   "outputs": [
    {
     "name": "stdout",
     "output_type": "stream",
     "text": [
      "Gökhan will retire in 41 years.\n"
     ]
    }
   ],
   "source": [
    "def retirement_status():\n",
    "    name = input(\"Enter your name: \")\n",
    "    age = calculate_age(birth_year)\n",
    "    if age >= 65:\n",
    "        print(\"{} is retired.\".format(name))\n",
    "    else:\n",
    "        years_left = 65 - age\n",
    "        print(\"{} will retire in {} years.\".format(name, years_left))\n",
    "\n",
    "retirement_status()"
   ]
  }
 ],
 "metadata": {
  "kernelspec": {
   "display_name": "Python 3 (ipykernel)",
   "language": "python",
   "name": "python3"
  },
  "language_info": {
   "codemirror_mode": {
    "name": "ipython",
    "version": 3
   },
   "file_extension": ".py",
   "mimetype": "text/x-python",
   "name": "python",
   "nbconvert_exporter": "python",
   "pygments_lexer": "ipython3",
   "version": "3.11.5"
  }
 },
 "nbformat": 4,
 "nbformat_minor": 5
}
