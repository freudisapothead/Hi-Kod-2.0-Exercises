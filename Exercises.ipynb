{
 "cells": [
  {
   "cell_type": "markdown",
   "metadata": {},
   "source": [
    "# Exercise 1\n",
    "\n",
    "x = 3 ----> floata çevirelim. Çevirdikten sonra veri tipinide yazdıralım.\n",
    "\n",
    "y = 4.5 -----> integere çevirelim. Çevirdikten sonra veri tipinide yazdıralım.\n",
    "\n",
    "z = \"8\" -----> integera çevirelim. Çevirdikten sonra veri tipinide yazdıralım.\n",
    "\n",
    "a = \"12\" -----> floata çevirelim. Çevirdikten sonra veri tipinide yazdıralım.\n",
    "\n",
    "b = \"46.8\" ------> integera çevirelim. Çevirdikten sonra veri tipinide yazdıralım."
   ]
  },
  {
   "cell_type": "code",
   "execution_count": 5,
   "metadata": {},
   "outputs": [
    {
     "data": {
      "text/plain": [
       "int"
      ]
     },
     "execution_count": 5,
     "metadata": {},
     "output_type": "execute_result"
    }
   ],
   "source": [
    "x = 3\n",
    "float(x)\n",
    "type(x)"
   ]
  },
  {
   "cell_type": "code",
   "execution_count": 6,
   "metadata": {},
   "outputs": [
    {
     "data": {
      "text/plain": [
       "float"
      ]
     },
     "execution_count": 6,
     "metadata": {},
     "output_type": "execute_result"
    }
   ],
   "source": [
    "y=4.5\n",
    "int(y)\n",
    "type(y)"
   ]
  },
  {
   "cell_type": "code",
   "execution_count": 7,
   "metadata": {},
   "outputs": [
    {
     "data": {
      "text/plain": [
       "int"
      ]
     },
     "execution_count": 7,
     "metadata": {},
     "output_type": "execute_result"
    }
   ],
   "source": [
    "z = 8 \n",
    "int(z)\n",
    "type(z)"
   ]
  },
  {
   "cell_type": "code",
   "execution_count": 8,
   "metadata": {},
   "outputs": [
    {
     "data": {
      "text/plain": [
       "int"
      ]
     },
     "execution_count": 8,
     "metadata": {},
     "output_type": "execute_result"
    }
   ],
   "source": [
    "a = 12\n",
    "float(a)\n",
    "type(a)"
   ]
  },
  {
   "cell_type": "code",
   "execution_count": 9,
   "metadata": {},
   "outputs": [
    {
     "data": {
      "text/plain": [
       "float"
      ]
     },
     "execution_count": 9,
     "metadata": {},
     "output_type": "execute_result"
    }
   ],
   "source": [
    "b = 46.8\n",
    "int(b)\n",
    "type(b)"
   ]
  },
  {
   "cell_type": "markdown",
   "metadata": {},
   "source": [
    "# Exercise 2\n",
    "\n",
    "Üç değişken belirleyelim, bu değişkenler kişi adı olsun. Değişkenlere kişilerin yaşlarını atayalım. (ÖRN: ayse=22)\n",
    "\n",
    "Belirlediğimiz üç değişkeni birbiriyle karşılaştırma operatörleri ile karşılatıralım. (ayse>mehmet)\n",
    "\n",
    "Bu karşılaştırmalara mantıksal operatörleri de ekleyelim."
   ]
  },
  {
   "cell_type": "code",
   "execution_count": 10,
   "metadata": {},
   "outputs": [],
   "source": [
    "ayse = 22\n",
    "ali = 24\n",
    "fatma = 22\n",
    "\n"
   ]
  },
  {
   "cell_type": "code",
   "execution_count": 22,
   "metadata": {},
   "outputs": [
    {
     "name": "stdout",
     "output_type": "stream",
     "text": [
      "False\n",
      "True\n",
      "False\n",
      "True\n",
      "False\n",
      "True\n",
      "True\n",
      "True\n"
     ]
    }
   ],
   "source": [
    "x = ayse > fatma\n",
    "print(x)\n",
    "\n",
    "y = ayse < ali\n",
    "print(y)\n",
    "\n",
    "z = ayse == fatma\n",
    "print(z)\n",
    "\n",
    "q = ayse != fatma \n",
    "print(q)\n",
    "\n",
    "w = ayse >= fatma\n",
    "print(w) \n",
    "\n",
    "e = ayse = fatma and ayse < ali\n",
    "print(e)\n",
    "\n",
    "r = ayse > fatma or ayse < ali\n",
    "print (r)\n",
    "\n",
    "t = not(ayse > ali)\n",
    "print(t)"
   ]
  },
  {
   "cell_type": "markdown",
   "metadata": {},
   "source": [
    "# Excercise 3\n",
    "\n",
    "Kullanıcıdan iki değer girmesini isteyin. Girilen değerlerin toplama,çıkarma,çarpma,bölme sonuçlarını yazdıralım."
   ]
  },
  {
   "cell_type": "code",
   "execution_count": 24,
   "metadata": {},
   "outputs": [
    {
     "name": "stdout",
     "output_type": "stream",
     "text": [
      "Toplama Sonucu: 59\n",
      "Çıkarma Sonucu: -11\n",
      "Çarpma Sonucu: 840\n",
      "Bölme Sonucu: 0.6857142857142857\n"
     ]
    }
   ],
   "source": [
    "sayi1 = int(input(\"İlk sayıyı giriniz: \"))\n",
    "sayi2 = int(input(\"İkinci sayıyı giriniz: \"))\n",
    "\n",
    "print(\"Toplama Sonucu:\", sayi1 + sayi2)\n",
    "print(\"Çıkarma Sonucu:\", sayi1 - sayi2)\n",
    "print(\"Çarpma Sonucu:\", sayi1 * sayi2)\n",
    "print(\"Bölme Sonucu:\", sayi1 / sayi2)"
   ]
  },
  {
   "cell_type": "markdown",
   "metadata": {},
   "source": [
    "# Exercise 4\n",
    "\n",
    "Kullanıcıdan isim, yaş, şehir ve meslek bilgilerini isteyelim ve cevaplarını yazdıralım."
   ]
  },
  {
   "cell_type": "code",
   "execution_count": 25,
   "metadata": {},
   "outputs": [
    {
     "name": "stdout",
     "output_type": "stream",
     "text": [
      "Adınız: Gökhan\n",
      "Yaşınız: 23\n",
      "Şehriniz: Kayseri\n",
      "Mesleğiniz: Araştırmacı\n"
     ]
    }
   ],
   "source": [
    "isim = input(\"Adınız: \")\n",
    "yas = int(input(\"Yaşınız: \"))\n",
    "sehir = input(\"Şehriniz: \")\n",
    "meslek = input(\"Mesleğiniz: \")\n",
    "\n",
    "print(\"Adınız:\", isim)\n",
    "print(\"Yaşınız:\", yas)\n",
    "print(\"Şehriniz:\", sehir)\n",
    "print(\"Mesleğiniz:\", meslek)"
   ]
  },
  {
   "cell_type": "markdown",
   "metadata": {},
   "source": [
    "# Exercise 5 \n",
    "\n",
    "\"Hi-Kod Veri Bilimi Atölyesi\" ifadesini bir değişkene tanımlayalım.\n",
    "- İfadedeki her bir kelimeyi (\"Hi-Kod\", \"Veri\", \"Bilimi\", \"Atölyesi\") değişken içinden seçelim.\n",
    "- İfadeyi hepsini büyük harf olacak hale çevirelim.  (\"HI-KOD VERİ BİLİMİ ATÖLYESİ\")\n",
    "- İfadeyi hepsini büyük harf olacak hale çevirelim.(\"hi-kod veri bilimi atölyesi\")\n",
    "\n",
    "\"0123456789\" ifadesindeki yalnızca çift sayıları ve yalnızca tek sayıları seçelim. (\"02468\", \"13579\")\n"
   ]
  },
  {
   "cell_type": "code",
   "execution_count": 2,
   "metadata": {},
   "outputs": [
    {
     "data": {
      "text/plain": [
       "'hi-kod veri bilimi atölyesi'"
      ]
     },
     "execution_count": 2,
     "metadata": {},
     "output_type": "execute_result"
    }
   ],
   "source": [
    "a = \"Hi-Kod Veri Bilimi Atölyesi\"\n",
    "\n",
    "b = a.split(\" \")\n",
    "print(b)\n",
    "\n",
    "c = ifade.upper()\n",
    "print(c)\n",
    "\n",
    "\n",
    "d = ifade.lower()\n",
    "print(d)\n",
    "\n"
   ]
  },
  {
   "cell_type": "code",
   "execution_count": 31,
   "metadata": {},
   "outputs": [
    {
     "name": "stdout",
     "output_type": "stream",
     "text": [
      "02468\n",
      "13579\n"
     ]
    }
   ],
   "source": [
    "\n",
    "cift = \"\"\n",
    "tek = \"\"\n",
    "for number in \"0123456789\":\n",
    "    if int(number) % 2 == 0:\n",
    "        cift += number\n",
    "    else:\n",
    "         tek += number\n",
    "\n",
    "print(cift)  # 02468\n",
    "print(tek)  # 13579"
   ]
  }
 ],
 "metadata": {
  "kernelspec": {
   "display_name": "Python 3 (ipykernel)",
   "language": "python",
   "name": "python3"
  },
  "language_info": {
   "codemirror_mode": {
    "name": "ipython",
    "version": 3
   },
   "file_extension": ".py",
   "mimetype": "text/x-python",
   "name": "python",
   "nbconvert_exporter": "python",
   "pygments_lexer": "ipython3",
   "version": "3.11.5"
  },
  "vscode": {
   "interpreter": {
    "hash": "c881c981974d1277f7400ccc3574e04ed710c1350960151bc46c299926b2e061"
   }
  }
 },
 "nbformat": 4,
 "nbformat_minor": 2
}
